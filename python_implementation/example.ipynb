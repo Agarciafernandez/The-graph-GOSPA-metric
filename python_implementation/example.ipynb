{
 "cells": [
  {
   "cell_type": "code",
   "execution_count": 1,
   "metadata": {},
   "outputs": [],
   "source": [
    "import numpy as np\n",
    "from utils import toy_graph\n",
    "from graphGOSPA import LP_graph_GOSPA,LP_graph_GOSPA_directed\n",
    "import matplotlib.pyplot as plt\n",
    "import networkx as nx"
   ]
  },
  {
   "cell_type": "code",
   "execution_count": 2,
   "metadata": {},
   "outputs": [],
   "source": [
    "#Parameters to define graphs\n",
    "DelVal=0.8\n",
    "delVal=1.2"
   ]
  },
  {
   "cell_type": "code",
   "execution_count": 3,
   "metadata": {},
   "outputs": [],
   "source": [
    "def switch_graph(case):\n",
    "    #Fig. 1 in the paper, undirected unweighted graphs \n",
    "    if case==0:\n",
    "        attr1= np.array([[0,0],[10,10],[10,20]])\n",
    "        attr2= np.array([[0,0],[10,10],[10,20]])\n",
    "\n",
    "        adj1=np.array([[0,1,1],[1,0,1],[1,1,0]])\n",
    "        adj2=np.array([[0,1,1],[1,0,1],[1,1,0]])\n",
    "    elif case==1:\n",
    "        attr1= np.array([[0,0],[10,10],[10,20]])\n",
    "        attr2= np.array([[0,0-DelVal*delVal],[10,10-DelVal*delVal],[10,20]])\n",
    "\n",
    "        adj1=np.array([[0,1,1],[1,0,1],[1,1,0]])\n",
    "        adj2=np.array([[0,1,0],[1,0,1],[0,1,0]])\n",
    "    elif case==2:\n",
    "        attr1= np.array([[0,0],[10,10],[10,20]])\n",
    "        attr2= np.array([[0,0-DelVal*delVal],[10,10-DelVal*delVal]])\n",
    "\n",
    "        adj1=np.array([[0,1,1],[1,0,1],[1,1,0]])\n",
    "        adj2=np.array([[0,1],[1,0]])\n",
    "    elif case==3:\n",
    "        attr1= np.array([[0,0],[10,10],[10,20]])\n",
    "        attr2= np.array([[0,0-DelVal*delVal],[10,10-DelVal*delVal],[10,15]])\n",
    "\n",
    "        adj1=np.array([[0,1,1],[1,0,1],[1,1,0]])\n",
    "        adj2=np.array([[0,1,0],[1,0,1],[0,1,0]])\n",
    "\n",
    "        #Fig. 2 in the paper, undirected weighted graphs\n",
    "    elif case==4:\n",
    "        attr1= np.array([[0,0],[10,10],[10,20]])\n",
    "        attr2= np.array([[0,0-DelVal*delVal],[10,10-DelVal*delVal],[10,20]])\n",
    "\n",
    "        adj1=np.array([[0,0.3,0.7],[0.3,0,0.5],[0.7,0.5,0]])\n",
    "        adj2=np.array([[0,0.3,0.4],[0.3,0,0.5],[0.4,0.5,0]])\n",
    "    elif case==5:\n",
    "        attr1= np.array([[0,0],[10,10],[10,20]])\n",
    "        attr2= np.array([[0,0-DelVal*delVal],[10,10-DelVal*delVal],[10,20]])\n",
    "\n",
    "        adj1=np.array([[0,0.3,0.7],[0.3,0,0.5],[0.7,0.5,0]])\n",
    "        adj2=np.array([[0,0.3,0],[0.3,0,0.5],[0,0.5,0]])\n",
    "    elif case==6:\n",
    "        attr1= np.array([[0,0],[10,10],[10,20]])\n",
    "        attr2= np.array([[0,0-DelVal*delVal],[10,10-DelVal*delVal]])\n",
    "\n",
    "        adj1=np.array([[0,0.3,0.7],[0.3,0,0.5],[0.7,0.5,0]])\n",
    "        adj2=np.array([[0,0.3],[0.3,0]])\n",
    "\n",
    "    elif case==7:\n",
    "        attr1= np.array([[0,0],[10,10],[10,20]])\n",
    "        attr2= np.array([[0,0-DelVal*delVal],[10,10-DelVal*delVal],[10,15]])\n",
    "\n",
    "        adj1=np.array([[0,0.3,0.7],[0.3,0,0.5],[0.7,0.5,0]])\n",
    "        adj2=np.array([[0,0.3,0],[0.3,0,0.6],[0,0.6,0]])\n",
    "\n",
    "        #Fig. 3 in the paper, directed unweighted graphs (Can be computed by LP_graph_GOSPA function ONLY)\n",
    "    elif case==8:\n",
    "        attr1= np.array([[0,0],[10,10],[10,20]])\n",
    "        attr2= np.array([[0,0-DelVal*delVal],[10,10-DelVal*delVal],[10,20]])\n",
    "\n",
    "        adj1=np.array([[0,1,0],[0,0,1],[1,0,0]])\n",
    "        adj2=np.array([[0,1,1],[0,0,1],[0,0,0]])\n",
    "\n",
    "    elif case==9:\n",
    "        attr1= np.array([[0,0],[10,10],[10,20]])\n",
    "        attr2= np.array([[0,0-DelVal*delVal],[10,10-DelVal*delVal],[10,20]])\n",
    "\n",
    "        adj1=np.array([[0,1,0],[0,0,1],[1,0,0]])\n",
    "        adj2=np.array([[0,1,0],[0,0,1],[0,0,0]])\n",
    "\n",
    "    elif case==10:\n",
    "        attr1= np.array([[0,0],[10,10],[10,20]])\n",
    "        attr2= np.array([[0,0-DelVal*delVal],[10,10-DelVal*delVal]])\n",
    "\n",
    "        adj1=np.array([[0,1,0],[0,0,1],[1,0,0]])\n",
    "        adj2=np.array([[0,1],[0,0]])\n",
    "\n",
    "    elif case==11:\n",
    "        attr1= np.array([[0,0],[10,10],[10,20]])\n",
    "        attr2= np.array([[0,0-DelVal*delVal],[10,10-DelVal*delVal],[10,15]])\n",
    "\n",
    "        adj1=np.array([[0,1,0],[0,0,1],[1,0,0]])\n",
    "        adj2=np.array([[0,1,0],[0,0,1],[0,0,0]])\n",
    "\n",
    "    graph1=toy_graph(attr=attr1,adj=adj1)\n",
    "    graph2=toy_graph(attr=attr2,adj=adj2)\n",
    "\n",
    "    return graph1,graph2\n"
   ]
  },
  {
   "cell_type": "code",
   "execution_count": 4,
   "metadata": {},
   "outputs": [
    {
     "name": "stdout",
     "output_type": "stream",
     "text": [
      "graphGOSPA distance for case 8 is : 2.920000000000001\n",
      "location cost for case 8 is : 1.9200000000000008\n",
      "false cost for case 8 is : 0.0\n",
      "miss cost for case 8 is : 0.0\n",
      "edge cost for case 8 is : 1.0\n"
     ]
    }
   ],
   "source": [
    "\n",
    "c=3\n",
    "p=1\n",
    "epsilon=1\n",
    "case =8 # choose the graph. \n",
    "X,Y=switch_graph(case) #extended_LP_graph_GOSPA can be used for ALL cases, but slower than LP_graph_GOSPA in cases 0,1,2\n",
    "if case <=7:\n",
    "#LP_graph_GOSPA can be used for case 0,1,2,3,4,5,6,7 ONLY.\n",
    "    dxy,loc_cost,false_cost,miss_cost,edge_cost=LP_graph_GOSPA(X.attr,Y.attr,X.adj,Y.adj,c,p,epsilon)\n",
    "else:\n",
    "#extended_LP_graph_GOSPA can be used for ALL cases, but slower than LP_graph_GOSPA in cases 0,1,2,3,4,5,6,7.\n",
    "    dxy,loc_cost,false_cost,miss_cost,edge_cost=LP_graph_GOSPA_directed(X.attr,Y.attr,X.adj,Y.adj,c,p,epsilon)\n",
    "\n",
    "\n",
    "print(f'graphGOSPA metric for case {case} is : {dxy}')\n",
    "print(f'Node attribute cost for case {case} is : {loc_cost}')\n",
    "print(f'False node cost for case {case} is : {false_cost}')\n",
    "print(f'Missed node cost for case {case} is : {miss_cost}')\n",
    "print(f'Edge mismatch cost for case {case} is : {edge_cost}')\n"
   ]
  },
  {
   "cell_type": "code",
   "execution_count": 14,
   "metadata": {},
   "outputs": [
    {
     "data": {
      "image/png": "[encoded data removed]",
      "text/plain": [
       "<Figure size 640x480 with 1 Axes>"
      ]
     },
     "metadata": {},
     "output_type": "display_data"
    }
   ],
   "source": [
    "G1=nx.from_numpy_array(X.adj)\n",
    "G2=nx.from_numpy_array(Y.adj)\n",
    "plt.figure()\n",
    "if case<=7:\n",
    "    nx.draw_networkx(G1,pos=X.attr,with_labels=True,node_size=100)\n",
    "    nx.draw_networkx(G2,pos=Y.attr,with_labels=True,node_color='r',node_size=100,edge_color='c')\n",
    "else:\n",
    "    nx.draw_networkx(G1,pos=X.attr,arrows=True,with_labels=True,node_size=100,arrowstyle='->')\n",
    "    nx.draw_networkx(G2,pos=Y.attr,arrows=True,with_labels=True,node_color='r',node_size=100,arrowstyle='->',edge_color='c')"
   ]
  },
  {
   "cell_type": "code",
   "execution_count": null,
   "metadata": {},
   "outputs": [],
   "source": []
  }
 ],
 "metadata": {
  "kernelspec": {
   "display_name": "graph_metric",
   "language": "python",
   "name": "python3"
  },
  "language_info": {
   "codemirror_mode": {
    "name": "ipython",
    "version": 3
   },
   "file_extension": ".py",
   "mimetype": "text/x-python",
   "name": "python",
   "nbconvert_exporter": "python",
   "pygments_lexer": "ipython3",
   "version": "3.10.13"
  }
 },
 "nbformat": 4,
 "nbformat_minor": 2
}
